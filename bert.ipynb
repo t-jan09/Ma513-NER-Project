{
  "nbformat": 4,
  "nbformat_minor": 0,
  "metadata": {
    "colab": {
      "provenance": [],
      "gpuType": "T4"
    },
    "kernelspec": {
      "name": "python3",
      "display_name": "Python 3"
    },
    "language_info": {
      "name": "python"
    },
    "widgets": {
      "application/vnd.jupyter.widget-state+json": {
        "7f6f23aec8034093ab95ba0db33c0eef": {
          "model_module": "@jupyter-widgets/controls",
          "model_name": "HBoxModel",
          "model_module_version": "1.5.0",
          "state": {
            "_dom_classes": [],
            "_model_module": "@jupyter-widgets/controls",
            "_model_module_version": "1.5.0",
            "_model_name": "HBoxModel",
            "_view_count": null,
            "_view_module": "@jupyter-widgets/controls",
            "_view_module_version": "1.5.0",
            "_view_name": "HBoxView",
            "box_style": "",
            "children": [
              "IPY_MODEL_f359478fee3c46d4a621858255fe4588",
              "IPY_MODEL_06eca8ffc19a4554948c239736e10b1a",
              "IPY_MODEL_366dc33822db43498834669a7209c1ea"
            ],
            "layout": "IPY_MODEL_41482b7d48fa44c891117f5258735ef4"
          }
        },
        "f359478fee3c46d4a621858255fe4588": {
          "model_module": "@jupyter-widgets/controls",
          "model_name": "HTMLModel",
          "model_module_version": "1.5.0",
          "state": {
            "_dom_classes": [],
            "_model_module": "@jupyter-widgets/controls",
            "_model_module_version": "1.5.0",
            "_model_name": "HTMLModel",
            "_view_count": null,
            "_view_module": "@jupyter-widgets/controls",
            "_view_module_version": "1.5.0",
            "_view_name": "HTMLView",
            "description": "",
            "description_tooltip": null,
            "layout": "IPY_MODEL_463ee0fc5f91414fa8650944456e6ea1",
            "placeholder": "​",
            "style": "IPY_MODEL_20b3e38b15eb43a192e424cd67578327",
            "value": "tokenizer_config.json: 100%"
          }
        },
        "06eca8ffc19a4554948c239736e10b1a": {
          "model_module": "@jupyter-widgets/controls",
          "model_name": "FloatProgressModel",
          "model_module_version": "1.5.0",
          "state": {
            "_dom_classes": [],
            "_model_module": "@jupyter-widgets/controls",
            "_model_module_version": "1.5.0",
            "_model_name": "FloatProgressModel",
            "_view_count": null,
            "_view_module": "@jupyter-widgets/controls",
            "_view_module_version": "1.5.0",
            "_view_name": "ProgressView",
            "bar_style": "success",
            "description": "",
            "description_tooltip": null,
            "layout": "IPY_MODEL_1d30a64153ec4e6aa33492dcebbed27f",
            "max": 49,
            "min": 0,
            "orientation": "horizontal",
            "style": "IPY_MODEL_d47b2fda2890460482253c3b6a1049e9",
            "value": 49
          }
        },
        "366dc33822db43498834669a7209c1ea": {
          "model_module": "@jupyter-widgets/controls",
          "model_name": "HTMLModel",
          "model_module_version": "1.5.0",
          "state": {
            "_dom_classes": [],
            "_model_module": "@jupyter-widgets/controls",
            "_model_module_version": "1.5.0",
            "_model_name": "HTMLModel",
            "_view_count": null,
            "_view_module": "@jupyter-widgets/controls",
            "_view_module_version": "1.5.0",
            "_view_name": "HTMLView",
            "description": "",
            "description_tooltip": null,
            "layout": "IPY_MODEL_41b1e0e1f8c142b5a8b3811d199ef7c8",
            "placeholder": "​",
            "style": "IPY_MODEL_9124ab0b74054ecb9d6f2db6e2d33de7",
            "value": " 49.0/49.0 [00:00&lt;00:00, 3.58kB/s]"
          }
        },
        "41482b7d48fa44c891117f5258735ef4": {
          "model_module": "@jupyter-widgets/base",
          "model_name": "LayoutModel",
          "model_module_version": "1.2.0",
          "state": {
            "_model_module": "@jupyter-widgets/base",
            "_model_module_version": "1.2.0",
            "_model_name": "LayoutModel",
            "_view_count": null,
            "_view_module": "@jupyter-widgets/base",
            "_view_module_version": "1.2.0",
            "_view_name": "LayoutView",
            "align_content": null,
            "align_items": null,
            "align_self": null,
            "border": null,
            "bottom": null,
            "display": null,
            "flex": null,
            "flex_flow": null,
            "grid_area": null,
            "grid_auto_columns": null,
            "grid_auto_flow": null,
            "grid_auto_rows": null,
            "grid_column": null,
            "grid_gap": null,
            "grid_row": null,
            "grid_template_areas": null,
            "grid_template_columns": null,
            "grid_template_rows": null,
            "height": null,
            "justify_content": null,
            "justify_items": null,
            "left": null,
            "margin": null,
            "max_height": null,
            "max_width": null,
            "min_height": null,
            "min_width": null,
            "object_fit": null,
            "object_position": null,
            "order": null,
            "overflow": null,
            "overflow_x": null,
            "overflow_y": null,
            "padding": null,
            "right": null,
            "top": null,
            "visibility": null,
            "width": null
          }
        },
        "463ee0fc5f91414fa8650944456e6ea1": {
          "model_module": "@jupyter-widgets/base",
          "model_name": "LayoutModel",
          "model_module_version": "1.2.0",
          "state": {
            "_model_module": "@jupyter-widgets/base",
            "_model_module_version": "1.2.0",
            "_model_name": "LayoutModel",
            "_view_count": null,
            "_view_module": "@jupyter-widgets/base",
            "_view_module_version": "1.2.0",
            "_view_name": "LayoutView",
            "align_content": null,
            "align_items": null,
            "align_self": null,
            "border": null,
            "bottom": null,
            "display": null,
            "flex": null,
            "flex_flow": null,
            "grid_area": null,
            "grid_auto_columns": null,
            "grid_auto_flow": null,
            "grid_auto_rows": null,
            "grid_column": null,
            "grid_gap": null,
            "grid_row": null,
            "grid_template_areas": null,
            "grid_template_columns": null,
            "grid_template_rows": null,
            "height": null,
            "justify_content": null,
            "justify_items": null,
            "left": null,
            "margin": null,
            "max_height": null,
            "max_width": null,
            "min_height": null,
            "min_width": null,
            "object_fit": null,
            "object_position": null,
            "order": null,
            "overflow": null,
            "overflow_x": null,
            "overflow_y": null,
            "padding": null,
            "right": null,
            "top": null,
            "visibility": null,
            "width": null
          }
        },
        "20b3e38b15eb43a192e424cd67578327": {
          "model_module": "@jupyter-widgets/controls",
          "model_name": "DescriptionStyleModel",
          "model_module_version": "1.5.0",
          "state": {
            "_model_module": "@jupyter-widgets/controls",
            "_model_module_version": "1.5.0",
            "_model_name": "DescriptionStyleModel",
            "_view_count": null,
            "_view_module": "@jupyter-widgets/base",
            "_view_module_version": "1.2.0",
            "_view_name": "StyleView",
            "description_width": ""
          }
        },
        "1d30a64153ec4e6aa33492dcebbed27f": {
          "model_module": "@jupyter-widgets/base",
          "model_name": "LayoutModel",
          "model_module_version": "1.2.0",
          "state": {
            "_model_module": "@jupyter-widgets/base",
            "_model_module_version": "1.2.0",
            "_model_name": "LayoutModel",
            "_view_count": null,
            "_view_module": "@jupyter-widgets/base",
            "_view_module_version": "1.2.0",
            "_view_name": "LayoutView",
            "align_content": null,
            "align_items": null,
            "align_self": null,
            "border": null,
            "bottom": null,
            "display": null,
            "flex": null,
            "flex_flow": null,
            "grid_area": null,
            "grid_auto_columns": null,
            "grid_auto_flow": null,
            "grid_auto_rows": null,
            "grid_column": null,
            "grid_gap": null,
            "grid_row": null,
            "grid_template_areas": null,
            "grid_template_columns": null,
            "grid_template_rows": null,
            "height": null,
            "justify_content": null,
            "justify_items": null,
            "left": null,
            "margin": null,
            "max_height": null,
            "max_width": null,
            "min_height": null,
            "min_width": null,
            "object_fit": null,
            "object_position": null,
            "order": null,
            "overflow": null,
            "overflow_x": null,
            "overflow_y": null,
            "padding": null,
            "right": null,
            "top": null,
            "visibility": null,
            "width": null
          }
        },
        "d47b2fda2890460482253c3b6a1049e9": {
          "model_module": "@jupyter-widgets/controls",
          "model_name": "ProgressStyleModel",
          "model_module_version": "1.5.0",
          "state": {
            "_model_module": "@jupyter-widgets/controls",
            "_model_module_version": "1.5.0",
            "_model_name": "ProgressStyleModel",
            "_view_count": null,
            "_view_module": "@jupyter-widgets/base",
            "_view_module_version": "1.2.0",
            "_view_name": "StyleView",
            "bar_color": null,
            "description_width": ""
          }
        },
        "41b1e0e1f8c142b5a8b3811d199ef7c8": {
          "model_module": "@jupyter-widgets/base",
          "model_name": "LayoutModel",
          "model_module_version": "1.2.0",
          "state": {
            "_model_module": "@jupyter-widgets/base",
            "_model_module_version": "1.2.0",
            "_model_name": "LayoutModel",
            "_view_count": null,
            "_view_module": "@jupyter-widgets/base",
            "_view_module_version": "1.2.0",
            "_view_name": "LayoutView",
            "align_content": null,
            "align_items": null,
            "align_self": null,
            "border": null,
            "bottom": null,
            "display": null,
            "flex": null,
            "flex_flow": null,
            "grid_area": null,
            "grid_auto_columns": null,
            "grid_auto_flow": null,
            "grid_auto_rows": null,
            "grid_column": null,
            "grid_gap": null,
            "grid_row": null,
            "grid_template_areas": null,
            "grid_template_columns": null,
            "grid_template_rows": null,
            "height": null,
            "justify_content": null,
            "justify_items": null,
            "left": null,
            "margin": null,
            "max_height": null,
            "max_width": null,
            "min_height": null,
            "min_width": null,
            "object_fit": null,
            "object_position": null,
            "order": null,
            "overflow": null,
            "overflow_x": null,
            "overflow_y": null,
            "padding": null,
            "right": null,
            "top": null,
            "visibility": null,
            "width": null
          }
        },
        "9124ab0b74054ecb9d6f2db6e2d33de7": {
          "model_module": "@jupyter-widgets/controls",
          "model_name": "DescriptionStyleModel",
          "model_module_version": "1.5.0",
          "state": {
            "_model_module": "@jupyter-widgets/controls",
            "_model_module_version": "1.5.0",
            "_model_name": "DescriptionStyleModel",
            "_view_count": null,
            "_view_module": "@jupyter-widgets/base",
            "_view_module_version": "1.2.0",
            "_view_name": "StyleView",
            "description_width": ""
          }
        },
        "b4cebb20c4da4500873a72ed0f59cc95": {
          "model_module": "@jupyter-widgets/controls",
          "model_name": "HBoxModel",
          "model_module_version": "1.5.0",
          "state": {
            "_dom_classes": [],
            "_model_module": "@jupyter-widgets/controls",
            "_model_module_version": "1.5.0",
            "_model_name": "HBoxModel",
            "_view_count": null,
            "_view_module": "@jupyter-widgets/controls",
            "_view_module_version": "1.5.0",
            "_view_name": "HBoxView",
            "box_style": "",
            "children": [
              "IPY_MODEL_628eca7fd9774b70a81b6c8454ad8feb",
              "IPY_MODEL_36025d6673014b75bdf4fea2b6898f71",
              "IPY_MODEL_3b93583841294149aa24152428f5776f"
            ],
            "layout": "IPY_MODEL_db0a0879602b46febb5c371a3e05593f"
          }
        },
        "628eca7fd9774b70a81b6c8454ad8feb": {
          "model_module": "@jupyter-widgets/controls",
          "model_name": "HTMLModel",
          "model_module_version": "1.5.0",
          "state": {
            "_dom_classes": [],
            "_model_module": "@jupyter-widgets/controls",
            "_model_module_version": "1.5.0",
            "_model_name": "HTMLModel",
            "_view_count": null,
            "_view_module": "@jupyter-widgets/controls",
            "_view_module_version": "1.5.0",
            "_view_name": "HTMLView",
            "description": "",
            "description_tooltip": null,
            "layout": "IPY_MODEL_b0cfd0d246584eddb21167419cf09606",
            "placeholder": "​",
            "style": "IPY_MODEL_f88ed248d03c443d8986605f74a72706",
            "value": "config.json: 100%"
          }
        },
        "36025d6673014b75bdf4fea2b6898f71": {
          "model_module": "@jupyter-widgets/controls",
          "model_name": "FloatProgressModel",
          "model_module_version": "1.5.0",
          "state": {
            "_dom_classes": [],
            "_model_module": "@jupyter-widgets/controls",
            "_model_module_version": "1.5.0",
            "_model_name": "FloatProgressModel",
            "_view_count": null,
            "_view_module": "@jupyter-widgets/controls",
            "_view_module_version": "1.5.0",
            "_view_name": "ProgressView",
            "bar_style": "success",
            "description": "",
            "description_tooltip": null,
            "layout": "IPY_MODEL_faefde15a8a24fe58bda570b407941d6",
            "max": 570,
            "min": 0,
            "orientation": "horizontal",
            "style": "IPY_MODEL_7459d6ad30964bf6951f53877a9bc24b",
            "value": 570
          }
        },
        "3b93583841294149aa24152428f5776f": {
          "model_module": "@jupyter-widgets/controls",
          "model_name": "HTMLModel",
          "model_module_version": "1.5.0",
          "state": {
            "_dom_classes": [],
            "_model_module": "@jupyter-widgets/controls",
            "_model_module_version": "1.5.0",
            "_model_name": "HTMLModel",
            "_view_count": null,
            "_view_module": "@jupyter-widgets/controls",
            "_view_module_version": "1.5.0",
            "_view_name": "HTMLView",
            "description": "",
            "description_tooltip": null,
            "layout": "IPY_MODEL_d16c1c10e5804a10a96a8b8ed51e0799",
            "placeholder": "​",
            "style": "IPY_MODEL_4edf6a3a4de0410f96219a0da9fece52",
            "value": " 570/570 [00:00&lt;00:00, 41.1kB/s]"
          }
        },
        "db0a0879602b46febb5c371a3e05593f": {
          "model_module": "@jupyter-widgets/base",
          "model_name": "LayoutModel",
          "model_module_version": "1.2.0",
          "state": {
            "_model_module": "@jupyter-widgets/base",
            "_model_module_version": "1.2.0",
            "_model_name": "LayoutModel",
            "_view_count": null,
            "_view_module": "@jupyter-widgets/base",
            "_view_module_version": "1.2.0",
            "_view_name": "LayoutView",
            "align_content": null,
            "align_items": null,
            "align_self": null,
            "border": null,
            "bottom": null,
            "display": null,
            "flex": null,
            "flex_flow": null,
            "grid_area": null,
            "grid_auto_columns": null,
            "grid_auto_flow": null,
            "grid_auto_rows": null,
            "grid_column": null,
            "grid_gap": null,
            "grid_row": null,
            "grid_template_areas": null,
            "grid_template_columns": null,
            "grid_template_rows": null,
            "height": null,
            "justify_content": null,
            "justify_items": null,
            "left": null,
            "margin": null,
            "max_height": null,
            "max_width": null,
            "min_height": null,
            "min_width": null,
            "object_fit": null,
            "object_position": null,
            "order": null,
            "overflow": null,
            "overflow_x": null,
            "overflow_y": null,
            "padding": null,
            "right": null,
            "top": null,
            "visibility": null,
            "width": null
          }
        },
        "b0cfd0d246584eddb21167419cf09606": {
          "model_module": "@jupyter-widgets/base",
          "model_name": "LayoutModel",
          "model_module_version": "1.2.0",
          "state": {
            "_model_module": "@jupyter-widgets/base",
            "_model_module_version": "1.2.0",
            "_model_name": "LayoutModel",
            "_view_count": null,
            "_view_module": "@jupyter-widgets/base",
            "_view_module_version": "1.2.0",
            "_view_name": "LayoutView",
            "align_content": null,
            "align_items": null,
            "align_self": null,
            "border": null,
            "bottom": null,
            "display": null,
            "flex": null,
            "flex_flow": null,
            "grid_area": null,
            "grid_auto_columns": null,
            "grid_auto_flow": null,
            "grid_auto_rows": null,
            "grid_column": null,
            "grid_gap": null,
            "grid_row": null,
            "grid_template_areas": null,
            "grid_template_columns": null,
            "grid_template_rows": null,
            "height": null,
            "justify_content": null,
            "justify_items": null,
            "left": null,
            "margin": null,
            "max_height": null,
            "max_width": null,
            "min_height": null,
            "min_width": null,
            "object_fit": null,
            "object_position": null,
            "order": null,
            "overflow": null,
            "overflow_x": null,
            "overflow_y": null,
            "padding": null,
            "right": null,
            "top": null,
            "visibility": null,
            "width": null
          }
        },
        "f88ed248d03c443d8986605f74a72706": {
          "model_module": "@jupyter-widgets/controls",
          "model_name": "DescriptionStyleModel",
          "model_module_version": "1.5.0",
          "state": {
            "_model_module": "@jupyter-widgets/controls",
            "_model_module_version": "1.5.0",
            "_model_name": "DescriptionStyleModel",
            "_view_count": null,
            "_view_module": "@jupyter-widgets/base",
            "_view_module_version": "1.2.0",
            "_view_name": "StyleView",
            "description_width": ""
          }
        },
        "faefde15a8a24fe58bda570b407941d6": {
          "model_module": "@jupyter-widgets/base",
          "model_name": "LayoutModel",
          "model_module_version": "1.2.0",
          "state": {
            "_model_module": "@jupyter-widgets/base",
            "_model_module_version": "1.2.0",
            "_model_name": "LayoutModel",
            "_view_count": null,
            "_view_module": "@jupyter-widgets/base",
            "_view_module_version": "1.2.0",
            "_view_name": "LayoutView",
            "align_content": null,
            "align_items": null,
            "align_self": null,
            "border": null,
            "bottom": null,
            "display": null,
            "flex": null,
            "flex_flow": null,
            "grid_area": null,
            "grid_auto_columns": null,
            "grid_auto_flow": null,
            "grid_auto_rows": null,
            "grid_column": null,
            "grid_gap": null,
            "grid_row": null,
            "grid_template_areas": null,
            "grid_template_columns": null,
            "grid_template_rows": null,
            "height": null,
            "justify_content": null,
            "justify_items": null,
            "left": null,
            "margin": null,
            "max_height": null,
            "max_width": null,
            "min_height": null,
            "min_width": null,
            "object_fit": null,
            "object_position": null,
            "order": null,
            "overflow": null,
            "overflow_x": null,
            "overflow_y": null,
            "padding": null,
            "right": null,
            "top": null,
            "visibility": null,
            "width": null
          }
        },
        "7459d6ad30964bf6951f53877a9bc24b": {
          "model_module": "@jupyter-widgets/controls",
          "model_name": "ProgressStyleModel",
          "model_module_version": "1.5.0",
          "state": {
            "_model_module": "@jupyter-widgets/controls",
            "_model_module_version": "1.5.0",
            "_model_name": "ProgressStyleModel",
            "_view_count": null,
            "_view_module": "@jupyter-widgets/base",
            "_view_module_version": "1.2.0",
            "_view_name": "StyleView",
            "bar_color": null,
            "description_width": ""
          }
        },
        "d16c1c10e5804a10a96a8b8ed51e0799": {
          "model_module": "@jupyter-widgets/base",
          "model_name": "LayoutModel",
          "model_module_version": "1.2.0",
          "state": {
            "_model_module": "@jupyter-widgets/base",
            "_model_module_version": "1.2.0",
            "_model_name": "LayoutModel",
            "_view_count": null,
            "_view_module": "@jupyter-widgets/base",
            "_view_module_version": "1.2.0",
            "_view_name": "LayoutView",
            "align_content": null,
            "align_items": null,
            "align_self": null,
            "border": null,
            "bottom": null,
            "display": null,
            "flex": null,
            "flex_flow": null,
            "grid_area": null,
            "grid_auto_columns": null,
            "grid_auto_flow": null,
            "grid_auto_rows": null,
            "grid_column": null,
            "grid_gap": null,
            "grid_row": null,
            "grid_template_areas": null,
            "grid_template_columns": null,
            "grid_template_rows": null,
            "height": null,
            "justify_content": null,
            "justify_items": null,
            "left": null,
            "margin": null,
            "max_height": null,
            "max_width": null,
            "min_height": null,
            "min_width": null,
            "object_fit": null,
            "object_position": null,
            "order": null,
            "overflow": null,
            "overflow_x": null,
            "overflow_y": null,
            "padding": null,
            "right": null,
            "top": null,
            "visibility": null,
            "width": null
          }
        },
        "4edf6a3a4de0410f96219a0da9fece52": {
          "model_module": "@jupyter-widgets/controls",
          "model_name": "DescriptionStyleModel",
          "model_module_version": "1.5.0",
          "state": {
            "_model_module": "@jupyter-widgets/controls",
            "_model_module_version": "1.5.0",
            "_model_name": "DescriptionStyleModel",
            "_view_count": null,
            "_view_module": "@jupyter-widgets/base",
            "_view_module_version": "1.2.0",
            "_view_name": "StyleView",
            "description_width": ""
          }
        },
        "77c731f6cd5f4aa8ad2b086b66acd955": {
          "model_module": "@jupyter-widgets/controls",
          "model_name": "HBoxModel",
          "model_module_version": "1.5.0",
          "state": {
            "_dom_classes": [],
            "_model_module": "@jupyter-widgets/controls",
            "_model_module_version": "1.5.0",
            "_model_name": "HBoxModel",
            "_view_count": null,
            "_view_module": "@jupyter-widgets/controls",
            "_view_module_version": "1.5.0",
            "_view_name": "HBoxView",
            "box_style": "",
            "children": [
              "IPY_MODEL_f0d8323ae2df49e39c95001b03a47ed7",
              "IPY_MODEL_1fc9b9a5c11e4a5db440c48e052e8112",
              "IPY_MODEL_704c7467942c4442aeeae0429e6a6d88"
            ],
            "layout": "IPY_MODEL_4f25b9e2626940d2aa7456fdf8536e38"
          }
        },
        "f0d8323ae2df49e39c95001b03a47ed7": {
          "model_module": "@jupyter-widgets/controls",
          "model_name": "HTMLModel",
          "model_module_version": "1.5.0",
          "state": {
            "_dom_classes": [],
            "_model_module": "@jupyter-widgets/controls",
            "_model_module_version": "1.5.0",
            "_model_name": "HTMLModel",
            "_view_count": null,
            "_view_module": "@jupyter-widgets/controls",
            "_view_module_version": "1.5.0",
            "_view_name": "HTMLView",
            "description": "",
            "description_tooltip": null,
            "layout": "IPY_MODEL_526fed7d221e4003a7df7962cb1d7f88",
            "placeholder": "​",
            "style": "IPY_MODEL_fd73cf02983a4af1a28cdeec6caf2175",
            "value": "vocab.txt: 100%"
          }
        },
        "1fc9b9a5c11e4a5db440c48e052e8112": {
          "model_module": "@jupyter-widgets/controls",
          "model_name": "FloatProgressModel",
          "model_module_version": "1.5.0",
          "state": {
            "_dom_classes": [],
            "_model_module": "@jupyter-widgets/controls",
            "_model_module_version": "1.5.0",
            "_model_name": "FloatProgressModel",
            "_view_count": null,
            "_view_module": "@jupyter-widgets/controls",
            "_view_module_version": "1.5.0",
            "_view_name": "ProgressView",
            "bar_style": "success",
            "description": "",
            "description_tooltip": null,
            "layout": "IPY_MODEL_60791dddaec141c49936d5a3588997a0",
            "max": 213450,
            "min": 0,
            "orientation": "horizontal",
            "style": "IPY_MODEL_14eb8008cf234e039dda294d9583e281",
            "value": 213450
          }
        },
        "704c7467942c4442aeeae0429e6a6d88": {
          "model_module": "@jupyter-widgets/controls",
          "model_name": "HTMLModel",
          "model_module_version": "1.5.0",
          "state": {
            "_dom_classes": [],
            "_model_module": "@jupyter-widgets/controls",
            "_model_module_version": "1.5.0",
            "_model_name": "HTMLModel",
            "_view_count": null,
            "_view_module": "@jupyter-widgets/controls",
            "_view_module_version": "1.5.0",
            "_view_name": "HTMLView",
            "description": "",
            "description_tooltip": null,
            "layout": "IPY_MODEL_9f2a930aaf3d497ca3a556f6f3a77488",
            "placeholder": "​",
            "style": "IPY_MODEL_e0d9c594d6ae487b93af73dbd4d52b21",
            "value": " 213k/213k [00:00&lt;00:00, 6.11MB/s]"
          }
        },
        "4f25b9e2626940d2aa7456fdf8536e38": {
          "model_module": "@jupyter-widgets/base",
          "model_name": "LayoutModel",
          "model_module_version": "1.2.0",
          "state": {
            "_model_module": "@jupyter-widgets/base",
            "_model_module_version": "1.2.0",
            "_model_name": "LayoutModel",
            "_view_count": null,
            "_view_module": "@jupyter-widgets/base",
            "_view_module_version": "1.2.0",
            "_view_name": "LayoutView",
            "align_content": null,
            "align_items": null,
            "align_self": null,
            "border": null,
            "bottom": null,
            "display": null,
            "flex": null,
            "flex_flow": null,
            "grid_area": null,
            "grid_auto_columns": null,
            "grid_auto_flow": null,
            "grid_auto_rows": null,
            "grid_column": null,
            "grid_gap": null,
            "grid_row": null,
            "grid_template_areas": null,
            "grid_template_columns": null,
            "grid_template_rows": null,
            "height": null,
            "justify_content": null,
            "justify_items": null,
            "left": null,
            "margin": null,
            "max_height": null,
            "max_width": null,
            "min_height": null,
            "min_width": null,
            "object_fit": null,
            "object_position": null,
            "order": null,
            "overflow": null,
            "overflow_x": null,
            "overflow_y": null,
            "padding": null,
            "right": null,
            "top": null,
            "visibility": null,
            "width": null
          }
        },
        "526fed7d221e4003a7df7962cb1d7f88": {
          "model_module": "@jupyter-widgets/base",
          "model_name": "LayoutModel",
          "model_module_version": "1.2.0",
          "state": {
            "_model_module": "@jupyter-widgets/base",
            "_model_module_version": "1.2.0",
            "_model_name": "LayoutModel",
            "_view_count": null,
            "_view_module": "@jupyter-widgets/base",
            "_view_module_version": "1.2.0",
            "_view_name": "LayoutView",
            "align_content": null,
            "align_items": null,
            "align_self": null,
            "border": null,
            "bottom": null,
            "display": null,
            "flex": null,
            "flex_flow": null,
            "grid_area": null,
            "grid_auto_columns": null,
            "grid_auto_flow": null,
            "grid_auto_rows": null,
            "grid_column": null,
            "grid_gap": null,
            "grid_row": null,
            "grid_template_areas": null,
            "grid_template_columns": null,
            "grid_template_rows": null,
            "height": null,
            "justify_content": null,
            "justify_items": null,
            "left": null,
            "margin": null,
            "max_height": null,
            "max_width": null,
            "min_height": null,
            "min_width": null,
            "object_fit": null,
            "object_position": null,
            "order": null,
            "overflow": null,
            "overflow_x": null,
            "overflow_y": null,
            "padding": null,
            "right": null,
            "top": null,
            "visibility": null,
            "width": null
          }
        },
        "fd73cf02983a4af1a28cdeec6caf2175": {
          "model_module": "@jupyter-widgets/controls",
          "model_name": "DescriptionStyleModel",
          "model_module_version": "1.5.0",
          "state": {
            "_model_module": "@jupyter-widgets/controls",
            "_model_module_version": "1.5.0",
            "_model_name": "DescriptionStyleModel",
            "_view_count": null,
            "_view_module": "@jupyter-widgets/base",
            "_view_module_version": "1.2.0",
            "_view_name": "StyleView",
            "description_width": ""
          }
        },
        "60791dddaec141c49936d5a3588997a0": {
          "model_module": "@jupyter-widgets/base",
          "model_name": "LayoutModel",
          "model_module_version": "1.2.0",
          "state": {
            "_model_module": "@jupyter-widgets/base",
            "_model_module_version": "1.2.0",
            "_model_name": "LayoutModel",
            "_view_count": null,
            "_view_module": "@jupyter-widgets/base",
            "_view_module_version": "1.2.0",
            "_view_name": "LayoutView",
            "align_content": null,
            "align_items": null,
            "align_self": null,
            "border": null,
            "bottom": null,
            "display": null,
            "flex": null,
            "flex_flow": null,
            "grid_area": null,
            "grid_auto_columns": null,
            "grid_auto_flow": null,
            "grid_auto_rows": null,
            "grid_column": null,
            "grid_gap": null,
            "grid_row": null,
            "grid_template_areas": null,
            "grid_template_columns": null,
            "grid_template_rows": null,
            "height": null,
            "justify_content": null,
            "justify_items": null,
            "left": null,
            "margin": null,
            "max_height": null,
            "max_width": null,
            "min_height": null,
            "min_width": null,
            "object_fit": null,
            "object_position": null,
            "order": null,
            "overflow": null,
            "overflow_x": null,
            "overflow_y": null,
            "padding": null,
            "right": null,
            "top": null,
            "visibility": null,
            "width": null
          }
        },
        "14eb8008cf234e039dda294d9583e281": {
          "model_module": "@jupyter-widgets/controls",
          "model_name": "ProgressStyleModel",
          "model_module_version": "1.5.0",
          "state": {
            "_model_module": "@jupyter-widgets/controls",
            "_model_module_version": "1.5.0",
            "_model_name": "ProgressStyleModel",
            "_view_count": null,
            "_view_module": "@jupyter-widgets/base",
            "_view_module_version": "1.2.0",
            "_view_name": "StyleView",
            "bar_color": null,
            "description_width": ""
          }
        },
        "9f2a930aaf3d497ca3a556f6f3a77488": {
          "model_module": "@jupyter-widgets/base",
          "model_name": "LayoutModel",
          "model_module_version": "1.2.0",
          "state": {
            "_model_module": "@jupyter-widgets/base",
            "_model_module_version": "1.2.0",
            "_model_name": "LayoutModel",
            "_view_count": null,
            "_view_module": "@jupyter-widgets/base",
            "_view_module_version": "1.2.0",
            "_view_name": "LayoutView",
            "align_content": null,
            "align_items": null,
            "align_self": null,
            "border": null,
            "bottom": null,
            "display": null,
            "flex": null,
            "flex_flow": null,
            "grid_area": null,
            "grid_auto_columns": null,
            "grid_auto_flow": null,
            "grid_auto_rows": null,
            "grid_column": null,
            "grid_gap": null,
            "grid_row": null,
            "grid_template_areas": null,
            "grid_template_columns": null,
            "grid_template_rows": null,
            "height": null,
            "justify_content": null,
            "justify_items": null,
            "left": null,
            "margin": null,
            "max_height": null,
            "max_width": null,
            "min_height": null,
            "min_width": null,
            "object_fit": null,
            "object_position": null,
            "order": null,
            "overflow": null,
            "overflow_x": null,
            "overflow_y": null,
            "padding": null,
            "right": null,
            "top": null,
            "visibility": null,
            "width": null
          }
        },
        "e0d9c594d6ae487b93af73dbd4d52b21": {
          "model_module": "@jupyter-widgets/controls",
          "model_name": "DescriptionStyleModel",
          "model_module_version": "1.5.0",
          "state": {
            "_model_module": "@jupyter-widgets/controls",
            "_model_module_version": "1.5.0",
            "_model_name": "DescriptionStyleModel",
            "_view_count": null,
            "_view_module": "@jupyter-widgets/base",
            "_view_module_version": "1.2.0",
            "_view_name": "StyleView",
            "description_width": ""
          }
        },
        "e2e99a54647449c691a4a93e5a705b37": {
          "model_module": "@jupyter-widgets/controls",
          "model_name": "HBoxModel",
          "model_module_version": "1.5.0",
          "state": {
            "_dom_classes": [],
            "_model_module": "@jupyter-widgets/controls",
            "_model_module_version": "1.5.0",
            "_model_name": "HBoxModel",
            "_view_count": null,
            "_view_module": "@jupyter-widgets/controls",
            "_view_module_version": "1.5.0",
            "_view_name": "HBoxView",
            "box_style": "",
            "children": [
              "IPY_MODEL_1a7698c1116e45dcb1d49067896e7345",
              "IPY_MODEL_fbd894b669e24ec8a83f4bb62cca90b9",
              "IPY_MODEL_3801f17d49364748b30c5503782485a6"
            ],
            "layout": "IPY_MODEL_84a6b02bb3654a2fb2812ed0011e03fb"
          }
        },
        "1a7698c1116e45dcb1d49067896e7345": {
          "model_module": "@jupyter-widgets/controls",
          "model_name": "HTMLModel",
          "model_module_version": "1.5.0",
          "state": {
            "_dom_classes": [],
            "_model_module": "@jupyter-widgets/controls",
            "_model_module_version": "1.5.0",
            "_model_name": "HTMLModel",
            "_view_count": null,
            "_view_module": "@jupyter-widgets/controls",
            "_view_module_version": "1.5.0",
            "_view_name": "HTMLView",
            "description": "",
            "description_tooltip": null,
            "layout": "IPY_MODEL_95243aba26d042a8973aa2d8d12e17bb",
            "placeholder": "​",
            "style": "IPY_MODEL_126eca37cdbe43ab82a2972b07806e23",
            "value": "tokenizer.json: 100%"
          }
        },
        "fbd894b669e24ec8a83f4bb62cca90b9": {
          "model_module": "@jupyter-widgets/controls",
          "model_name": "FloatProgressModel",
          "model_module_version": "1.5.0",
          "state": {
            "_dom_classes": [],
            "_model_module": "@jupyter-widgets/controls",
            "_model_module_version": "1.5.0",
            "_model_name": "FloatProgressModel",
            "_view_count": null,
            "_view_module": "@jupyter-widgets/controls",
            "_view_module_version": "1.5.0",
            "_view_name": "ProgressView",
            "bar_style": "success",
            "description": "",
            "description_tooltip": null,
            "layout": "IPY_MODEL_fc63b5ebf594401fa8242058ce388328",
            "max": 435797,
            "min": 0,
            "orientation": "horizontal",
            "style": "IPY_MODEL_67357370a9e6445c8d4f402afaba866e",
            "value": 435797
          }
        },
        "3801f17d49364748b30c5503782485a6": {
          "model_module": "@jupyter-widgets/controls",
          "model_name": "HTMLModel",
          "model_module_version": "1.5.0",
          "state": {
            "_dom_classes": [],
            "_model_module": "@jupyter-widgets/controls",
            "_model_module_version": "1.5.0",
            "_model_name": "HTMLModel",
            "_view_count": null,
            "_view_module": "@jupyter-widgets/controls",
            "_view_module_version": "1.5.0",
            "_view_name": "HTMLView",
            "description": "",
            "description_tooltip": null,
            "layout": "IPY_MODEL_1a99d24c2c814ea4a2448cd388ad8b66",
            "placeholder": "​",
            "style": "IPY_MODEL_433d68366eb7424caa912a2da759acce",
            "value": " 436k/436k [00:00&lt;00:00, 6.72MB/s]"
          }
        },
        "84a6b02bb3654a2fb2812ed0011e03fb": {
          "model_module": "@jupyter-widgets/base",
          "model_name": "LayoutModel",
          "model_module_version": "1.2.0",
          "state": {
            "_model_module": "@jupyter-widgets/base",
            "_model_module_version": "1.2.0",
            "_model_name": "LayoutModel",
            "_view_count": null,
            "_view_module": "@jupyter-widgets/base",
            "_view_module_version": "1.2.0",
            "_view_name": "LayoutView",
            "align_content": null,
            "align_items": null,
            "align_self": null,
            "border": null,
            "bottom": null,
            "display": null,
            "flex": null,
            "flex_flow": null,
            "grid_area": null,
            "grid_auto_columns": null,
            "grid_auto_flow": null,
            "grid_auto_rows": null,
            "grid_column": null,
            "grid_gap": null,
            "grid_row": null,
            "grid_template_areas": null,
            "grid_template_columns": null,
            "grid_template_rows": null,
            "height": null,
            "justify_content": null,
            "justify_items": null,
            "left": null,
            "margin": null,
            "max_height": null,
            "max_width": null,
            "min_height": null,
            "min_width": null,
            "object_fit": null,
            "object_position": null,
            "order": null,
            "overflow": null,
            "overflow_x": null,
            "overflow_y": null,
            "padding": null,
            "right": null,
            "top": null,
            "visibility": null,
            "width": null
          }
        },
        "95243aba26d042a8973aa2d8d12e17bb": {
          "model_module": "@jupyter-widgets/base",
          "model_name": "LayoutModel",
          "model_module_version": "1.2.0",
          "state": {
            "_model_module": "@jupyter-widgets/base",
            "_model_module_version": "1.2.0",
            "_model_name": "LayoutModel",
            "_view_count": null,
            "_view_module": "@jupyter-widgets/base",
            "_view_module_version": "1.2.0",
            "_view_name": "LayoutView",
            "align_content": null,
            "align_items": null,
            "align_self": null,
            "border": null,
            "bottom": null,
            "display": null,
            "flex": null,
            "flex_flow": null,
            "grid_area": null,
            "grid_auto_columns": null,
            "grid_auto_flow": null,
            "grid_auto_rows": null,
            "grid_column": null,
            "grid_gap": null,
            "grid_row": null,
            "grid_template_areas": null,
            "grid_template_columns": null,
            "grid_template_rows": null,
            "height": null,
            "justify_content": null,
            "justify_items": null,
            "left": null,
            "margin": null,
            "max_height": null,
            "max_width": null,
            "min_height": null,
            "min_width": null,
            "object_fit": null,
            "object_position": null,
            "order": null,
            "overflow": null,
            "overflow_x": null,
            "overflow_y": null,
            "padding": null,
            "right": null,
            "top": null,
            "visibility": null,
            "width": null
          }
        },
        "126eca37cdbe43ab82a2972b07806e23": {
          "model_module": "@jupyter-widgets/controls",
          "model_name": "DescriptionStyleModel",
          "model_module_version": "1.5.0",
          "state": {
            "_model_module": "@jupyter-widgets/controls",
            "_model_module_version": "1.5.0",
            "_model_name": "DescriptionStyleModel",
            "_view_count": null,
            "_view_module": "@jupyter-widgets/base",
            "_view_module_version": "1.2.0",
            "_view_name": "StyleView",
            "description_width": ""
          }
        },
        "fc63b5ebf594401fa8242058ce388328": {
          "model_module": "@jupyter-widgets/base",
          "model_name": "LayoutModel",
          "model_module_version": "1.2.0",
          "state": {
            "_model_module": "@jupyter-widgets/base",
            "_model_module_version": "1.2.0",
            "_model_name": "LayoutModel",
            "_view_count": null,
            "_view_module": "@jupyter-widgets/base",
            "_view_module_version": "1.2.0",
            "_view_name": "LayoutView",
            "align_content": null,
            "align_items": null,
            "align_self": null,
            "border": null,
            "bottom": null,
            "display": null,
            "flex": null,
            "flex_flow": null,
            "grid_area": null,
            "grid_auto_columns": null,
            "grid_auto_flow": null,
            "grid_auto_rows": null,
            "grid_column": null,
            "grid_gap": null,
            "grid_row": null,
            "grid_template_areas": null,
            "grid_template_columns": null,
            "grid_template_rows": null,
            "height": null,
            "justify_content": null,
            "justify_items": null,
            "left": null,
            "margin": null,
            "max_height": null,
            "max_width": null,
            "min_height": null,
            "min_width": null,
            "object_fit": null,
            "object_position": null,
            "order": null,
            "overflow": null,
            "overflow_x": null,
            "overflow_y": null,
            "padding": null,
            "right": null,
            "top": null,
            "visibility": null,
            "width": null
          }
        },
        "67357370a9e6445c8d4f402afaba866e": {
          "model_module": "@jupyter-widgets/controls",
          "model_name": "ProgressStyleModel",
          "model_module_version": "1.5.0",
          "state": {
            "_model_module": "@jupyter-widgets/controls",
            "_model_module_version": "1.5.0",
            "_model_name": "ProgressStyleModel",
            "_view_count": null,
            "_view_module": "@jupyter-widgets/base",
            "_view_module_version": "1.2.0",
            "_view_name": "StyleView",
            "bar_color": null,
            "description_width": ""
          }
        },
        "1a99d24c2c814ea4a2448cd388ad8b66": {
          "model_module": "@jupyter-widgets/base",
          "model_name": "LayoutModel",
          "model_module_version": "1.2.0",
          "state": {
            "_model_module": "@jupyter-widgets/base",
            "_model_module_version": "1.2.0",
            "_model_name": "LayoutModel",
            "_view_count": null,
            "_view_module": "@jupyter-widgets/base",
            "_view_module_version": "1.2.0",
            "_view_name": "LayoutView",
            "align_content": null,
            "align_items": null,
            "align_self": null,
            "border": null,
            "bottom": null,
            "display": null,
            "flex": null,
            "flex_flow": null,
            "grid_area": null,
            "grid_auto_columns": null,
            "grid_auto_flow": null,
            "grid_auto_rows": null,
            "grid_column": null,
            "grid_gap": null,
            "grid_row": null,
            "grid_template_areas": null,
            "grid_template_columns": null,
            "grid_template_rows": null,
            "height": null,
            "justify_content": null,
            "justify_items": null,
            "left": null,
            "margin": null,
            "max_height": null,
            "max_width": null,
            "min_height": null,
            "min_width": null,
            "object_fit": null,
            "object_position": null,
            "order": null,
            "overflow": null,
            "overflow_x": null,
            "overflow_y": null,
            "padding": null,
            "right": null,
            "top": null,
            "visibility": null,
            "width": null
          }
        },
        "433d68366eb7424caa912a2da759acce": {
          "model_module": "@jupyter-widgets/controls",
          "model_name": "DescriptionStyleModel",
          "model_module_version": "1.5.0",
          "state": {
            "_model_module": "@jupyter-widgets/controls",
            "_model_module_version": "1.5.0",
            "_model_name": "DescriptionStyleModel",
            "_view_count": null,
            "_view_module": "@jupyter-widgets/base",
            "_view_module_version": "1.2.0",
            "_view_name": "StyleView",
            "description_width": ""
          }
        },
        "7f10b49140f14024a1bd13a3a15e57a5": {
          "model_module": "@jupyter-widgets/controls",
          "model_name": "HBoxModel",
          "model_module_version": "1.5.0",
          "state": {
            "_dom_classes": [],
            "_model_module": "@jupyter-widgets/controls",
            "_model_module_version": "1.5.0",
            "_model_name": "HBoxModel",
            "_view_count": null,
            "_view_module": "@jupyter-widgets/controls",
            "_view_module_version": "1.5.0",
            "_view_name": "HBoxView",
            "box_style": "",
            "children": [
              "IPY_MODEL_dfb481f6c6c845eebde867132278c785",
              "IPY_MODEL_06b2b146a07b4291be35cdb46c05d661",
              "IPY_MODEL_1e215f5af45b461994867242d6cff131"
            ],
            "layout": "IPY_MODEL_9f30e5350e3a4a87ace4426d098592f4"
          }
        },
        "dfb481f6c6c845eebde867132278c785": {
          "model_module": "@jupyter-widgets/controls",
          "model_name": "HTMLModel",
          "model_module_version": "1.5.0",
          "state": {
            "_dom_classes": [],
            "_model_module": "@jupyter-widgets/controls",
            "_model_module_version": "1.5.0",
            "_model_name": "HTMLModel",
            "_view_count": null,
            "_view_module": "@jupyter-widgets/controls",
            "_view_module_version": "1.5.0",
            "_view_name": "HTMLView",
            "description": "",
            "description_tooltip": null,
            "layout": "IPY_MODEL_7f3730ebf9b044e59915cfb055a8fff2",
            "placeholder": "​",
            "style": "IPY_MODEL_eb9055fb47ec4b24b951a5a34ea148be",
            "value": "Map: 100%"
          }
        },
        "06b2b146a07b4291be35cdb46c05d661": {
          "model_module": "@jupyter-widgets/controls",
          "model_name": "FloatProgressModel",
          "model_module_version": "1.5.0",
          "state": {
            "_dom_classes": [],
            "_model_module": "@jupyter-widgets/controls",
            "_model_module_version": "1.5.0",
            "_model_name": "FloatProgressModel",
            "_view_count": null,
            "_view_module": "@jupyter-widgets/controls",
            "_view_module_version": "1.5.0",
            "_view_name": "ProgressView",
            "bar_style": "success",
            "description": "",
            "description_tooltip": null,
            "layout": "IPY_MODEL_74ffc9fe15ee46298f8b4f04f3fa7180",
            "max": 1352,
            "min": 0,
            "orientation": "horizontal",
            "style": "IPY_MODEL_e73e73c519f248789b6eb543da134294",
            "value": 1352
          }
        },
        "1e215f5af45b461994867242d6cff131": {
          "model_module": "@jupyter-widgets/controls",
          "model_name": "HTMLModel",
          "model_module_version": "1.5.0",
          "state": {
            "_dom_classes": [],
            "_model_module": "@jupyter-widgets/controls",
            "_model_module_version": "1.5.0",
            "_model_name": "HTMLModel",
            "_view_count": null,
            "_view_module": "@jupyter-widgets/controls",
            "_view_module_version": "1.5.0",
            "_view_name": "HTMLView",
            "description": "",
            "description_tooltip": null,
            "layout": "IPY_MODEL_8c788e6867e7475dbebced086fffa8dd",
            "placeholder": "​",
            "style": "IPY_MODEL_494217b9bd444d779c5abcd7a2c77019",
            "value": " 1352/1352 [00:00&lt;00:00, 3823.87 examples/s]"
          }
        },
        "9f30e5350e3a4a87ace4426d098592f4": {
          "model_module": "@jupyter-widgets/base",
          "model_name": "LayoutModel",
          "model_module_version": "1.2.0",
          "state": {
            "_model_module": "@jupyter-widgets/base",
            "_model_module_version": "1.2.0",
            "_model_name": "LayoutModel",
            "_view_count": null,
            "_view_module": "@jupyter-widgets/base",
            "_view_module_version": "1.2.0",
            "_view_name": "LayoutView",
            "align_content": null,
            "align_items": null,
            "align_self": null,
            "border": null,
            "bottom": null,
            "display": null,
            "flex": null,
            "flex_flow": null,
            "grid_area": null,
            "grid_auto_columns": null,
            "grid_auto_flow": null,
            "grid_auto_rows": null,
            "grid_column": null,
            "grid_gap": null,
            "grid_row": null,
            "grid_template_areas": null,
            "grid_template_columns": null,
            "grid_template_rows": null,
            "height": null,
            "justify_content": null,
            "justify_items": null,
            "left": null,
            "margin": null,
            "max_height": null,
            "max_width": null,
            "min_height": null,
            "min_width": null,
            "object_fit": null,
            "object_position": null,
            "order": null,
            "overflow": null,
            "overflow_x": null,
            "overflow_y": null,
            "padding": null,
            "right": null,
            "top": null,
            "visibility": null,
            "width": null
          }
        },
        "7f3730ebf9b044e59915cfb055a8fff2": {
          "model_module": "@jupyter-widgets/base",
          "model_name": "LayoutModel",
          "model_module_version": "1.2.0",
          "state": {
            "_model_module": "@jupyter-widgets/base",
            "_model_module_version": "1.2.0",
            "_model_name": "LayoutModel",
            "_view_count": null,
            "_view_module": "@jupyter-widgets/base",
            "_view_module_version": "1.2.0",
            "_view_name": "LayoutView",
            "align_content": null,
            "align_items": null,
            "align_self": null,
            "border": null,
            "bottom": null,
            "display": null,
            "flex": null,
            "flex_flow": null,
            "grid_area": null,
            "grid_auto_columns": null,
            "grid_auto_flow": null,
            "grid_auto_rows": null,
            "grid_column": null,
            "grid_gap": null,
            "grid_row": null,
            "grid_template_areas": null,
            "grid_template_columns": null,
            "grid_template_rows": null,
            "height": null,
            "justify_content": null,
            "justify_items": null,
            "left": null,
            "margin": null,
            "max_height": null,
            "max_width": null,
            "min_height": null,
            "min_width": null,
            "object_fit": null,
            "object_position": null,
            "order": null,
            "overflow": null,
            "overflow_x": null,
            "overflow_y": null,
            "padding": null,
            "right": null,
            "top": null,
            "visibility": null,
            "width": null
          }
        },
        "eb9055fb47ec4b24b951a5a34ea148be": {
          "model_module": "@jupyter-widgets/controls",
          "model_name": "DescriptionStyleModel",
          "model_module_version": "1.5.0",
          "state": {
            "_model_module": "@jupyter-widgets/controls",
            "_model_module_version": "1.5.0",
            "_model_name": "DescriptionStyleModel",
            "_view_count": null,
            "_view_module": "@jupyter-widgets/base",
            "_view_module_version": "1.2.0",
            "_view_name": "StyleView",
            "description_width": ""
          }
        },
        "74ffc9fe15ee46298f8b4f04f3fa7180": {
          "model_module": "@jupyter-widgets/base",
          "model_name": "LayoutModel",
          "model_module_version": "1.2.0",
          "state": {
            "_model_module": "@jupyter-widgets/base",
            "_model_module_version": "1.2.0",
            "_model_name": "LayoutModel",
            "_view_count": null,
            "_view_module": "@jupyter-widgets/base",
            "_view_module_version": "1.2.0",
            "_view_name": "LayoutView",
            "align_content": null,
            "align_items": null,
            "align_self": null,
            "border": null,
            "bottom": null,
            "display": null,
            "flex": null,
            "flex_flow": null,
            "grid_area": null,
            "grid_auto_columns": null,
            "grid_auto_flow": null,
            "grid_auto_rows": null,
            "grid_column": null,
            "grid_gap": null,
            "grid_row": null,
            "grid_template_areas": null,
            "grid_template_columns": null,
            "grid_template_rows": null,
            "height": null,
            "justify_content": null,
            "justify_items": null,
            "left": null,
            "margin": null,
            "max_height": null,
            "max_width": null,
            "min_height": null,
            "min_width": null,
            "object_fit": null,
            "object_position": null,
            "order": null,
            "overflow": null,
            "overflow_x": null,
            "overflow_y": null,
            "padding": null,
            "right": null,
            "top": null,
            "visibility": null,
            "width": null
          }
        },
        "e73e73c519f248789b6eb543da134294": {
          "model_module": "@jupyter-widgets/controls",
          "model_name": "ProgressStyleModel",
          "model_module_version": "1.5.0",
          "state": {
            "_model_module": "@jupyter-widgets/controls",
            "_model_module_version": "1.5.0",
            "_model_name": "ProgressStyleModel",
            "_view_count": null,
            "_view_module": "@jupyter-widgets/base",
            "_view_module_version": "1.2.0",
            "_view_name": "StyleView",
            "bar_color": null,
            "description_width": ""
          }
        },
        "8c788e6867e7475dbebced086fffa8dd": {
          "model_module": "@jupyter-widgets/base",
          "model_name": "LayoutModel",
          "model_module_version": "1.2.0",
          "state": {
            "_model_module": "@jupyter-widgets/base",
            "_model_module_version": "1.2.0",
            "_model_name": "LayoutModel",
            "_view_count": null,
            "_view_module": "@jupyter-widgets/base",
            "_view_module_version": "1.2.0",
            "_view_name": "LayoutView",
            "align_content": null,
            "align_items": null,
            "align_self": null,
            "border": null,
            "bottom": null,
            "display": null,
            "flex": null,
            "flex_flow": null,
            "grid_area": null,
            "grid_auto_columns": null,
            "grid_auto_flow": null,
            "grid_auto_rows": null,
            "grid_column": null,
            "grid_gap": null,
            "grid_row": null,
            "grid_template_areas": null,
            "grid_template_columns": null,
            "grid_template_rows": null,
            "height": null,
            "justify_content": null,
            "justify_items": null,
            "left": null,
            "margin": null,
            "max_height": null,
            "max_width": null,
            "min_height": null,
            "min_width": null,
            "object_fit": null,
            "object_position": null,
            "order": null,
            "overflow": null,
            "overflow_x": null,
            "overflow_y": null,
            "padding": null,
            "right": null,
            "top": null,
            "visibility": null,
            "width": null
          }
        },
        "494217b9bd444d779c5abcd7a2c77019": {
          "model_module": "@jupyter-widgets/controls",
          "model_name": "DescriptionStyleModel",
          "model_module_version": "1.5.0",
          "state": {
            "_model_module": "@jupyter-widgets/controls",
            "_model_module_version": "1.5.0",
            "_model_name": "DescriptionStyleModel",
            "_view_count": null,
            "_view_module": "@jupyter-widgets/base",
            "_view_module_version": "1.2.0",
            "_view_name": "StyleView",
            "description_width": ""
          }
        },
        "fab7ca652d0e47c19a9b2de1607bbc5f": {
          "model_module": "@jupyter-widgets/controls",
          "model_name": "HBoxModel",
          "model_module_version": "1.5.0",
          "state": {
            "_dom_classes": [],
            "_model_module": "@jupyter-widgets/controls",
            "_model_module_version": "1.5.0",
            "_model_name": "HBoxModel",
            "_view_count": null,
            "_view_module": "@jupyter-widgets/controls",
            "_view_module_version": "1.5.0",
            "_view_name": "HBoxView",
            "box_style": "",
            "children": [
              "IPY_MODEL_78daf3d7fa6c4d36955715e27a7e37fa",
              "IPY_MODEL_261f8b57d7a8476381acaca16229afaf",
              "IPY_MODEL_89249a75f2f14db8808476ee2c5dcc91"
            ],
            "layout": "IPY_MODEL_3db844eb3a5947198a616e2128acf016"
          }
        },
        "78daf3d7fa6c4d36955715e27a7e37fa": {
          "model_module": "@jupyter-widgets/controls",
          "model_name": "HTMLModel",
          "model_module_version": "1.5.0",
          "state": {
            "_dom_classes": [],
            "_model_module": "@jupyter-widgets/controls",
            "_model_module_version": "1.5.0",
            "_model_name": "HTMLModel",
            "_view_count": null,
            "_view_module": "@jupyter-widgets/controls",
            "_view_module_version": "1.5.0",
            "_view_name": "HTMLView",
            "description": "",
            "description_tooltip": null,
            "layout": "IPY_MODEL_ab91fb535aa3450aa3a031295fe9e55b",
            "placeholder": "​",
            "style": "IPY_MODEL_a3b1c522a59940f5a7c47e80e341cc98",
            "value": "Map: 100%"
          }
        },
        "261f8b57d7a8476381acaca16229afaf": {
          "model_module": "@jupyter-widgets/controls",
          "model_name": "FloatProgressModel",
          "model_module_version": "1.5.0",
          "state": {
            "_dom_classes": [],
            "_model_module": "@jupyter-widgets/controls",
            "_model_module_version": "1.5.0",
            "_model_name": "FloatProgressModel",
            "_view_count": null,
            "_view_module": "@jupyter-widgets/controls",
            "_view_module_version": "1.5.0",
            "_view_name": "ProgressView",
            "bar_style": "success",
            "description": "",
            "description_tooltip": null,
            "layout": "IPY_MODEL_c4838ce55be0448287bd61da2991c9e2",
            "max": 282,
            "min": 0,
            "orientation": "horizontal",
            "style": "IPY_MODEL_9af2d6643e414f6780af833cd2fff134",
            "value": 282
          }
        },
        "89249a75f2f14db8808476ee2c5dcc91": {
          "model_module": "@jupyter-widgets/controls",
          "model_name": "HTMLModel",
          "model_module_version": "1.5.0",
          "state": {
            "_dom_classes": [],
            "_model_module": "@jupyter-widgets/controls",
            "_model_module_version": "1.5.0",
            "_model_name": "HTMLModel",
            "_view_count": null,
            "_view_module": "@jupyter-widgets/controls",
            "_view_module_version": "1.5.0",
            "_view_name": "HTMLView",
            "description": "",
            "description_tooltip": null,
            "layout": "IPY_MODEL_991829c3fef940518762372542101817",
            "placeholder": "​",
            "style": "IPY_MODEL_841afb147de443f6a6459b6e3aaad7f2",
            "value": " 282/282 [00:00&lt;00:00, 2886.82 examples/s]"
          }
        },
        "3db844eb3a5947198a616e2128acf016": {
          "model_module": "@jupyter-widgets/base",
          "model_name": "LayoutModel",
          "model_module_version": "1.2.0",
          "state": {
            "_model_module": "@jupyter-widgets/base",
            "_model_module_version": "1.2.0",
            "_model_name": "LayoutModel",
            "_view_count": null,
            "_view_module": "@jupyter-widgets/base",
            "_view_module_version": "1.2.0",
            "_view_name": "LayoutView",
            "align_content": null,
            "align_items": null,
            "align_self": null,
            "border": null,
            "bottom": null,
            "display": null,
            "flex": null,
            "flex_flow": null,
            "grid_area": null,
            "grid_auto_columns": null,
            "grid_auto_flow": null,
            "grid_auto_rows": null,
            "grid_column": null,
            "grid_gap": null,
            "grid_row": null,
            "grid_template_areas": null,
            "grid_template_columns": null,
            "grid_template_rows": null,
            "height": null,
            "justify_content": null,
            "justify_items": null,
            "left": null,
            "margin": null,
            "max_height": null,
            "max_width": null,
            "min_height": null,
            "min_width": null,
            "object_fit": null,
            "object_position": null,
            "order": null,
            "overflow": null,
            "overflow_x": null,
            "overflow_y": null,
            "padding": null,
            "right": null,
            "top": null,
            "visibility": null,
            "width": null
          }
        },
        "ab91fb535aa3450aa3a031295fe9e55b": {
          "model_module": "@jupyter-widgets/base",
          "model_name": "LayoutModel",
          "model_module_version": "1.2.0",
          "state": {
            "_model_module": "@jupyter-widgets/base",
            "_model_module_version": "1.2.0",
            "_model_name": "LayoutModel",
            "_view_count": null,
            "_view_module": "@jupyter-widgets/base",
            "_view_module_version": "1.2.0",
            "_view_name": "LayoutView",
            "align_content": null,
            "align_items": null,
            "align_self": null,
            "border": null,
            "bottom": null,
            "display": null,
            "flex": null,
            "flex_flow": null,
            "grid_area": null,
            "grid_auto_columns": null,
            "grid_auto_flow": null,
            "grid_auto_rows": null,
            "grid_column": null,
            "grid_gap": null,
            "grid_row": null,
            "grid_template_areas": null,
            "grid_template_columns": null,
            "grid_template_rows": null,
            "height": null,
            "justify_content": null,
            "justify_items": null,
            "left": null,
            "margin": null,
            "max_height": null,
            "max_width": null,
            "min_height": null,
            "min_width": null,
            "object_fit": null,
            "object_position": null,
            "order": null,
            "overflow": null,
            "overflow_x": null,
            "overflow_y": null,
            "padding": null,
            "right": null,
            "top": null,
            "visibility": null,
            "width": null
          }
        },
        "a3b1c522a59940f5a7c47e80e341cc98": {
          "model_module": "@jupyter-widgets/controls",
          "model_name": "DescriptionStyleModel",
          "model_module_version": "1.5.0",
          "state": {
            "_model_module": "@jupyter-widgets/controls",
            "_model_module_version": "1.5.0",
            "_model_name": "DescriptionStyleModel",
            "_view_count": null,
            "_view_module": "@jupyter-widgets/base",
            "_view_module_version": "1.2.0",
            "_view_name": "StyleView",
            "description_width": ""
          }
        },
        "c4838ce55be0448287bd61da2991c9e2": {
          "model_module": "@jupyter-widgets/base",
          "model_name": "LayoutModel",
          "model_module_version": "1.2.0",
          "state": {
            "_model_module": "@jupyter-widgets/base",
            "_model_module_version": "1.2.0",
            "_model_name": "LayoutModel",
            "_view_count": null,
            "_view_module": "@jupyter-widgets/base",
            "_view_module_version": "1.2.0",
            "_view_name": "LayoutView",
            "align_content": null,
            "align_items": null,
            "align_self": null,
            "border": null,
            "bottom": null,
            "display": null,
            "flex": null,
            "flex_flow": null,
            "grid_area": null,
            "grid_auto_columns": null,
            "grid_auto_flow": null,
            "grid_auto_rows": null,
            "grid_column": null,
            "grid_gap": null,
            "grid_row": null,
            "grid_template_areas": null,
            "grid_template_columns": null,
            "grid_template_rows": null,
            "height": null,
            "justify_content": null,
            "justify_items": null,
            "left": null,
            "margin": null,
            "max_height": null,
            "max_width": null,
            "min_height": null,
            "min_width": null,
            "object_fit": null,
            "object_position": null,
            "order": null,
            "overflow": null,
            "overflow_x": null,
            "overflow_y": null,
            "padding": null,
            "right": null,
            "top": null,
            "visibility": null,
            "width": null
          }
        },
        "9af2d6643e414f6780af833cd2fff134": {
          "model_module": "@jupyter-widgets/controls",
          "model_name": "ProgressStyleModel",
          "model_module_version": "1.5.0",
          "state": {
            "_model_module": "@jupyter-widgets/controls",
            "_model_module_version": "1.5.0",
            "_model_name": "ProgressStyleModel",
            "_view_count": null,
            "_view_module": "@jupyter-widgets/base",
            "_view_module_version": "1.2.0",
            "_view_name": "StyleView",
            "bar_color": null,
            "description_width": ""
          }
        },
        "991829c3fef940518762372542101817": {
          "model_module": "@jupyter-widgets/base",
          "model_name": "LayoutModel",
          "model_module_version": "1.2.0",
          "state": {
            "_model_module": "@jupyter-widgets/base",
            "_model_module_version": "1.2.0",
            "_model_name": "LayoutModel",
            "_view_count": null,
            "_view_module": "@jupyter-widgets/base",
            "_view_module_version": "1.2.0",
            "_view_name": "LayoutView",
            "align_content": null,
            "align_items": null,
            "align_self": null,
            "border": null,
            "bottom": null,
            "display": null,
            "flex": null,
            "flex_flow": null,
            "grid_area": null,
            "grid_auto_columns": null,
            "grid_auto_flow": null,
            "grid_auto_rows": null,
            "grid_column": null,
            "grid_gap": null,
            "grid_row": null,
            "grid_template_areas": null,
            "grid_template_columns": null,
            "grid_template_rows": null,
            "height": null,
            "justify_content": null,
            "justify_items": null,
            "left": null,
            "margin": null,
            "max_height": null,
            "max_width": null,
            "min_height": null,
            "min_width": null,
            "object_fit": null,
            "object_position": null,
            "order": null,
            "overflow": null,
            "overflow_x": null,
            "overflow_y": null,
            "padding": null,
            "right": null,
            "top": null,
            "visibility": null,
            "width": null
          }
        },
        "841afb147de443f6a6459b6e3aaad7f2": {
          "model_module": "@jupyter-widgets/controls",
          "model_name": "DescriptionStyleModel",
          "model_module_version": "1.5.0",
          "state": {
            "_model_module": "@jupyter-widgets/controls",
            "_model_module_version": "1.5.0",
            "_model_name": "DescriptionStyleModel",
            "_view_count": null,
            "_view_module": "@jupyter-widgets/base",
            "_view_module_version": "1.2.0",
            "_view_name": "StyleView",
            "description_width": ""
          }
        }
      }
    },
    "accelerator": "GPU"
  },
  "cells": [
    {
      "cell_type": "markdown",
      "source": [
        "# Imports"
      ],
      "metadata": {
        "id": "k-j-uFPy3xNt"
      }
    },
    {
      "cell_type": "code",
      "source": [
        "!pip install datasets\n",
        "!pip install seqeval"
      ],
      "metadata": {
        "id": "xzgPzy1J384z"
      },
      "execution_count": null,
      "outputs": []
    },
    {
      "cell_type": "code",
      "execution_count": 2,
      "metadata": {
        "id": "4B7q4PHQEdYm"
      },
      "outputs": [],
      "source": [
        "import json\n",
        "from datasets import Dataset\n",
        "from transformers import AutoTokenizer\n",
        "from transformers import DataCollatorForTokenClassification\n",
        "from transformers import AutoModelForTokenClassification, TrainingArguments, Trainer\n",
        "from transformers import pipeline\n",
        "from seqeval.metrics import classification_report, f1_score, precision_score, recall_score, accuracy_score\n",
        "from seqeval.scheme import IOB2\n",
        "import numpy as np"
      ]
    },
    {
      "cell_type": "markdown",
      "source": [
        "# Loading the dataset"
      ],
      "metadata": {
        "id": "emcrfn525gCZ"
      }
    },
    {
      "cell_type": "code",
      "source": [
        "# File paths\n",
        "train_file = 'NER-TRAINING.jsonlines'\n",
        "validation_file = 'NER-VALIDATION.jsonlines'\n",
        "test_file = 'NER-TESTING.jsonlines'\n",
        "predicted_file_test = 'ner-testing-predictions.jsonlines'\n",
        "predicted_file_valid = 'ner-validation-predictions.jsonlines'"
      ],
      "metadata": {
        "id": "1TfjvuYGFKbg"
      },
      "execution_count": 3,
      "outputs": []
    },
    {
      "cell_type": "code",
      "source": [
        "# Function to read JSON Lines file\n",
        "def read_jsonl(file_path):\n",
        "    with open(file_path, 'r') as f:\n",
        "        return [json.loads(line) for line in f]\n",
        "\n",
        "# Function to write JSON Lines file\n",
        "def write_jsonl(file_path, data):\n",
        "    with open(file_path, 'w') as f:\n",
        "        for entry in data:\n",
        "            f.write(json.dumps(entry) + \"\\n\")"
      ],
      "metadata": {
        "id": "e8Ui6rVZ5ofw"
      },
      "execution_count": 4,
      "outputs": []
    },
    {
      "cell_type": "code",
      "source": [
        "# Load datasets\n",
        "train_data_orig = read_jsonl(train_file)\n",
        "valid_data_orig = read_jsonl(validation_file)\n",
        "test_data_orig = read_jsonl(test_file)\n",
        "\n",
        "print(\"Size of train data :\",len(train_data_orig))\n",
        "print(\"Size of validation data :\",len(valid_data_orig))"
      ],
      "metadata": {
        "colab": {
          "base_uri": "https://localhost:8080/"
        },
        "id": "j7qIykuu50Cy",
        "outputId": "08e1ce8b-6fc2-4edf-ab72-6ee5ba98854d"
      },
      "execution_count": 56,
      "outputs": [
        {
          "output_type": "stream",
          "name": "stdout",
          "text": [
            "Size of train data : 4876\n",
            "Size of validation data : 1044\n"
          ]
        }
      ]
    },
    {
      "cell_type": "markdown",
      "source": [
        "# Preparing the data"
      ],
      "metadata": {
        "id": "Dc0Oxzwi44-z"
      }
    },
    {
      "cell_type": "markdown",
      "source": [
        "## Cleaning datasets"
      ],
      "metadata": {
        "id": "LqEnaFSM8z_L"
      }
    },
    {
      "cell_type": "code",
      "source": [
        "# Clean data by removing entries with only 'O' tags\n",
        "def clean_data(dataset):\n",
        "    return [entry for entry in dataset if any(tag != 'O' for tag in entry.get('ner_tags', []))]\n",
        "\n",
        "# Clean data by removing entries with 50% or more 'O' tags\n",
        "def clean_data2(dataset):\n",
        "    cleaned_dataset = []\n",
        "    for entry in dataset:\n",
        "        ner_tags = entry.get('ner_tags', [])\n",
        "        if ner_tags:\n",
        "            o_count = ner_tags.count('O')\n",
        "            o_ratio = o_count / len(ner_tags)\n",
        "            if o_ratio < 0.6:\n",
        "                cleaned_dataset.append(entry)\n",
        "    return cleaned_dataset"
      ],
      "metadata": {
        "id": "BJp6vIRMFNVT"
      },
      "execution_count": 31,
      "outputs": []
    },
    {
      "cell_type": "code",
      "source": [
        "# Clean training and validation data\n",
        "train_data = clean_data(train_data_orig)\n",
        "valid_data = clean_data(valid_data_orig)\n",
        "\n",
        "print(\"Size of train data after cleaning :\",len(train_data))\n",
        "print(\"Size of validation data after cleaning :\",len(valid_data))"
      ],
      "metadata": {
        "colab": {
          "base_uri": "https://localhost:8080/"
        },
        "id": "IqyNYoQt0cGq",
        "outputId": "75cca13c-2b0b-43bc-9e93-5d3bc37c2452"
      },
      "execution_count": 57,
      "outputs": [
        {
          "output_type": "stream",
          "name": "stdout",
          "text": [
            "Size of train data after cleaning : 1352\n",
            "Size of validation data after cleaning : 282\n"
          ]
        }
      ]
    },
    {
      "cell_type": "code",
      "source": [
        "# Vizualisation\n",
        "entry = train_data[0] # returns a dict object\n",
        "print(entry)\n",
        "print(entry['ner_tags'])"
      ],
      "metadata": {
        "colab": {
          "base_uri": "https://localhost:8080/"
        },
        "id": "6-mGuHDw08aW",
        "outputId": "6a38b5a7-13bf-4169-aa72-46ce5d42d658"
      },
      "execution_count": 33,
      "outputs": [
        {
          "output_type": "stream",
          "name": "stdout",
          "text": [
            "{'unique_id': 2600, 'tokens': ['Then', 'it', 'writes', 'the', 'file', 'to', 'disk', 'with', 'CreateFileA', 'and', 'WriteFile', 'functions', '.'], 'ner_tags': ['O', 'B-Entity', 'B-Action', 'B-Entity', 'I-Entity', 'B-Modifier', 'B-Entity', 'B-Modifier', 'B-Entity', 'I-Entity', 'I-Entity', 'I-Entity', 'O']}\n",
            "['O', 'B-Entity', 'B-Action', 'B-Entity', 'I-Entity', 'B-Modifier', 'B-Entity', 'B-Modifier', 'B-Entity', 'I-Entity', 'I-Entity', 'I-Entity', 'O']\n"
          ]
        }
      ]
    },
    {
      "cell_type": "markdown",
      "source": [
        "## Encoding labels"
      ],
      "metadata": {
        "id": "XQr0RI8R89ei"
      }
    },
    {
      "cell_type": "code",
      "source": [
        "label_to_id = {\n",
        "    \"O\": 0,\n",
        "    \"B-Entity\": 1,\n",
        "    \"I-Entity\": 2,\n",
        "    \"B-Action\": 3,\n",
        "    \"I-Action\": 4,\n",
        "    \"B-Modifier\": 5,\n",
        "    \"I-Modifier\": 6}"
      ],
      "metadata": {
        "id": "PYXyPckf-8s0"
      },
      "execution_count": 9,
      "outputs": []
    },
    {
      "cell_type": "code",
      "source": [
        "def encode_labels(data):\n",
        "    encoded_data = []\n",
        "    for entry in data:\n",
        "        tokens = entry[\"tokens\"]  # Second item is the list of tokens\n",
        "        ner_tags = entry[\"ner_tags\"]  # Third item is the list of NER tags\n",
        "        encoded_tags = [label_to_id[tag] for tag in ner_tags]  # Convert tags to IDs\n",
        "        encoded_data.append({\"tokens\": tokens, \"ner_tags\": encoded_tags})\n",
        "    return encoded_data"
      ],
      "metadata": {
        "id": "8f3-TxG1_pPw"
      },
      "execution_count": 10,
      "outputs": []
    },
    {
      "cell_type": "code",
      "source": [
        "train_data = encode_labels(train_data)\n",
        "valid_data = encode_labels(valid_data)"
      ],
      "metadata": {
        "id": "A3FTZL5Z_vKH"
      },
      "execution_count": 58,
      "outputs": []
    },
    {
      "cell_type": "code",
      "source": [
        "# Vizualisation\n",
        "print(entry)\n",
        "print(entry['ner_tags'])"
      ],
      "metadata": {
        "colab": {
          "base_uri": "https://localhost:8080/"
        },
        "id": "bvLDuCggAcwx",
        "outputId": "0763186f-926b-465f-9430-92ab1f0e5097"
      },
      "execution_count": 35,
      "outputs": [
        {
          "output_type": "stream",
          "name": "stdout",
          "text": [
            "{'unique_id': 2600, 'tokens': ['Then', 'it', 'writes', 'the', 'file', 'to', 'disk', 'with', 'CreateFileA', 'and', 'WriteFile', 'functions', '.'], 'ner_tags': ['O', 'B-Entity', 'B-Action', 'B-Entity', 'I-Entity', 'B-Modifier', 'B-Entity', 'B-Modifier', 'B-Entity', 'I-Entity', 'I-Entity', 'I-Entity', 'O']}\n",
            "['O', 'B-Entity', 'B-Action', 'B-Entity', 'I-Entity', 'B-Modifier', 'B-Entity', 'B-Modifier', 'B-Entity', 'I-Entity', 'I-Entity', 'I-Entity', 'O']\n"
          ]
        }
      ]
    },
    {
      "cell_type": "markdown",
      "source": [
        "## Tokenizing labels"
      ],
      "metadata": {
        "id": "GpZ7O1899ahb"
      }
    },
    {
      "cell_type": "code",
      "source": [
        "tokenizer = AutoTokenizer.from_pretrained(\"bert-base-cased\")"
      ],
      "metadata": {
        "id": "Qa8-ZdVQ5r1L",
        "colab": {
          "base_uri": "https://localhost:8080/",
          "height": 269,
          "referenced_widgets": [
            "7f6f23aec8034093ab95ba0db33c0eef",
            "f359478fee3c46d4a621858255fe4588",
            "06eca8ffc19a4554948c239736e10b1a",
            "366dc33822db43498834669a7209c1ea",
            "41482b7d48fa44c891117f5258735ef4",
            "463ee0fc5f91414fa8650944456e6ea1",
            "20b3e38b15eb43a192e424cd67578327",
            "1d30a64153ec4e6aa33492dcebbed27f",
            "d47b2fda2890460482253c3b6a1049e9",
            "41b1e0e1f8c142b5a8b3811d199ef7c8",
            "9124ab0b74054ecb9d6f2db6e2d33de7",
            "b4cebb20c4da4500873a72ed0f59cc95",
            "628eca7fd9774b70a81b6c8454ad8feb",
            "36025d6673014b75bdf4fea2b6898f71",
            "3b93583841294149aa24152428f5776f",
            "db0a0879602b46febb5c371a3e05593f",
            "b0cfd0d246584eddb21167419cf09606",
            "f88ed248d03c443d8986605f74a72706",
            "faefde15a8a24fe58bda570b407941d6",
            "7459d6ad30964bf6951f53877a9bc24b",
            "d16c1c10e5804a10a96a8b8ed51e0799",
            "4edf6a3a4de0410f96219a0da9fece52",
            "77c731f6cd5f4aa8ad2b086b66acd955",
            "f0d8323ae2df49e39c95001b03a47ed7",
            "1fc9b9a5c11e4a5db440c48e052e8112",
            "704c7467942c4442aeeae0429e6a6d88",
            "4f25b9e2626940d2aa7456fdf8536e38",
            "526fed7d221e4003a7df7962cb1d7f88",
            "fd73cf02983a4af1a28cdeec6caf2175",
            "60791dddaec141c49936d5a3588997a0",
            "14eb8008cf234e039dda294d9583e281",
            "9f2a930aaf3d497ca3a556f6f3a77488",
            "e0d9c594d6ae487b93af73dbd4d52b21",
            "e2e99a54647449c691a4a93e5a705b37",
            "1a7698c1116e45dcb1d49067896e7345",
            "fbd894b669e24ec8a83f4bb62cca90b9",
            "3801f17d49364748b30c5503782485a6",
            "84a6b02bb3654a2fb2812ed0011e03fb",
            "95243aba26d042a8973aa2d8d12e17bb",
            "126eca37cdbe43ab82a2972b07806e23",
            "fc63b5ebf594401fa8242058ce388328",
            "67357370a9e6445c8d4f402afaba866e",
            "1a99d24c2c814ea4a2448cd388ad8b66",
            "433d68366eb7424caa912a2da759acce"
          ]
        },
        "outputId": "6909f81f-ef10-40c2-9f46-a1d5751b0fa7"
      },
      "execution_count": 13,
      "outputs": [
        {
          "output_type": "stream",
          "name": "stderr",
          "text": [
            "/usr/local/lib/python3.10/dist-packages/huggingface_hub/utils/_auth.py:94: UserWarning: \n",
            "The secret `HF_TOKEN` does not exist in your Colab secrets.\n",
            "To authenticate with the Hugging Face Hub, create a token in your settings tab (https://huggingface.co/settings/tokens), set it as secret in your Google Colab and restart your session.\n",
            "You will be able to reuse this secret in all of your notebooks.\n",
            "Please note that authentication is recommended but still optional to access public models or datasets.\n",
            "  warnings.warn(\n"
          ]
        },
        {
          "output_type": "display_data",
          "data": {
            "text/plain": [
              "tokenizer_config.json:   0%|          | 0.00/49.0 [00:00<?, ?B/s]"
            ],
            "application/vnd.jupyter.widget-view+json": {
              "version_major": 2,
              "version_minor": 0,
              "model_id": "7f6f23aec8034093ab95ba0db33c0eef"
            }
          },
          "metadata": {}
        },
        {
          "output_type": "display_data",
          "data": {
            "text/plain": [
              "config.json:   0%|          | 0.00/570 [00:00<?, ?B/s]"
            ],
            "application/vnd.jupyter.widget-view+json": {
              "version_major": 2,
              "version_minor": 0,
              "model_id": "b4cebb20c4da4500873a72ed0f59cc95"
            }
          },
          "metadata": {}
        },
        {
          "output_type": "display_data",
          "data": {
            "text/plain": [
              "vocab.txt:   0%|          | 0.00/213k [00:00<?, ?B/s]"
            ],
            "application/vnd.jupyter.widget-view+json": {
              "version_major": 2,
              "version_minor": 0,
              "model_id": "77c731f6cd5f4aa8ad2b086b66acd955"
            }
          },
          "metadata": {}
        },
        {
          "output_type": "display_data",
          "data": {
            "text/plain": [
              "tokenizer.json:   0%|          | 0.00/436k [00:00<?, ?B/s]"
            ],
            "application/vnd.jupyter.widget-view+json": {
              "version_major": 2,
              "version_minor": 0,
              "model_id": "e2e99a54647449c691a4a93e5a705b37"
            }
          },
          "metadata": {}
        }
      ]
    },
    {
      "cell_type": "code",
      "source": [
        "# Vizualisation\n",
        "input = tokenizer(entry[\"tokens\"], is_split_into_words=True)\n",
        "print(input.tokens())"
      ],
      "metadata": {
        "colab": {
          "base_uri": "https://localhost:8080/"
        },
        "id": "2Lj4Ah7a50Lz",
        "outputId": "45aa2871-e96e-4246-85f5-2a4d8fdde2cd"
      },
      "execution_count": 14,
      "outputs": [
        {
          "output_type": "stream",
          "name": "stdout",
          "text": [
            "['[CLS]', 'In', '2008', ',', 'Tom', 'Don', '##ahu', '##e', ',', 'a', 'senior', 'Central', 'Intelligence', 'Agency', '(', 'CIA', ')', 'official', 'told', 'a', 'meeting', 'of', 'utility', 'company', 'representatives', 'that', 'c', '##y', '##ber', '##att', '##ack', '##s', 'had', 'taken', 'out', 'power', 'equipment', 'in', 'multiple', 'cities', 'outside', 'the', 'United', 'States', '.', '[SEP]']\n"
          ]
        }
      ]
    },
    {
      "cell_type": "code",
      "source": [
        "def tokenize_and_align_labels(examples):\n",
        "    tokenized_inputs = tokenizer(examples[\"tokens\"], truncation=True, is_split_into_words=True)\n",
        "\n",
        "    labels = []\n",
        "    for i, label in enumerate(examples[f\"ner_tags\"]):\n",
        "        word_ids = tokenized_inputs.word_ids(batch_index=i)  # Map tokens to their respective word.\n",
        "        previous_word_idx = None\n",
        "        label_ids = []\n",
        "        for word_idx in word_ids:  # Set the special tokens to -100.\n",
        "            if word_idx is None:\n",
        "                label_ids.append(-100)\n",
        "            elif word_idx != previous_word_idx:  # Only label the first token of a given word.\n",
        "                label_ids.append(label[word_idx])\n",
        "            else:\n",
        "                label_ids.append(-100)\n",
        "            previous_word_idx = word_idx\n",
        "        labels.append(label_ids)\n",
        "\n",
        "    tokenized_inputs[\"labels\"] = labels\n",
        "    return tokenized_inputs"
      ],
      "metadata": {
        "id": "76F6YaTa6cLu"
      },
      "execution_count": 15,
      "outputs": []
    },
    {
      "cell_type": "code",
      "source": [
        "# Convert lists to Dataset objects\n",
        "train_data = Dataset.from_dict({\"tokens\": [x[\"tokens\"] for x in train_data], \"ner_tags\": [x[\"ner_tags\"] for x in train_data]})\n",
        "valid_data = Dataset.from_dict({\"tokens\": [x[\"tokens\"] for x in valid_data], \"ner_tags\": [x[\"ner_tags\"] for x in valid_data]})\n",
        "test_data = Dataset.from_dict({\"tokens\": [x[\"tokens\"] for x in test_data_orig]})"
      ],
      "metadata": {
        "id": "ceBH2e2G9Faj"
      },
      "execution_count": 59,
      "outputs": []
    },
    {
      "cell_type": "code",
      "source": [
        "tokenized_train = train_data.map(\n",
        "    tokenize_and_align_labels,\n",
        "    batched=True)\n",
        "\n",
        "tokenized_valid = valid_data.map(\n",
        "    tokenize_and_align_labels,\n",
        "    batched=True)"
      ],
      "metadata": {
        "colab": {
          "base_uri": "https://localhost:8080/",
          "height": 81,
          "referenced_widgets": [
            "7f10b49140f14024a1bd13a3a15e57a5",
            "dfb481f6c6c845eebde867132278c785",
            "06b2b146a07b4291be35cdb46c05d661",
            "1e215f5af45b461994867242d6cff131",
            "9f30e5350e3a4a87ace4426d098592f4",
            "7f3730ebf9b044e59915cfb055a8fff2",
            "eb9055fb47ec4b24b951a5a34ea148be",
            "74ffc9fe15ee46298f8b4f04f3fa7180",
            "e73e73c519f248789b6eb543da134294",
            "8c788e6867e7475dbebced086fffa8dd",
            "494217b9bd444d779c5abcd7a2c77019",
            "fab7ca652d0e47c19a9b2de1607bbc5f",
            "78daf3d7fa6c4d36955715e27a7e37fa",
            "261f8b57d7a8476381acaca16229afaf",
            "89249a75f2f14db8808476ee2c5dcc91",
            "3db844eb3a5947198a616e2128acf016",
            "ab91fb535aa3450aa3a031295fe9e55b",
            "a3b1c522a59940f5a7c47e80e341cc98",
            "c4838ce55be0448287bd61da2991c9e2",
            "9af2d6643e414f6780af833cd2fff134",
            "991829c3fef940518762372542101817",
            "841afb147de443f6a6459b6e3aaad7f2"
          ]
        },
        "id": "1oexc8Qn6e5p",
        "outputId": "386c68d8-6cb3-4eae-a30d-e7135910890d"
      },
      "execution_count": 60,
      "outputs": [
        {
          "output_type": "display_data",
          "data": {
            "text/plain": [
              "Map:   0%|          | 0/1352 [00:00<?, ? examples/s]"
            ],
            "application/vnd.jupyter.widget-view+json": {
              "version_major": 2,
              "version_minor": 0,
              "model_id": "7f10b49140f14024a1bd13a3a15e57a5"
            }
          },
          "metadata": {}
        },
        {
          "output_type": "display_data",
          "data": {
            "text/plain": [
              "Map:   0%|          | 0/282 [00:00<?, ? examples/s]"
            ],
            "application/vnd.jupyter.widget-view+json": {
              "version_major": 2,
              "version_minor": 0,
              "model_id": "fab7ca652d0e47c19a9b2de1607bbc5f"
            }
          },
          "metadata": {}
        }
      ]
    },
    {
      "cell_type": "code",
      "source": [
        "# Vizualisation\n",
        "print(tokenized_train)"
      ],
      "metadata": {
        "colab": {
          "base_uri": "https://localhost:8080/"
        },
        "id": "7L7-NodzAua6",
        "outputId": "5e0fd663-c1e1-4bf2-f9ae-4331b369d50c"
      },
      "execution_count": 18,
      "outputs": [
        {
          "output_type": "stream",
          "name": "stdout",
          "text": [
            "Dataset({\n",
            "    features: ['tokens', 'ner_tags', 'input_ids', 'token_type_ids', 'attention_mask', 'labels'],\n",
            "    num_rows: 1352\n",
            "})\n"
          ]
        }
      ]
    },
    {
      "cell_type": "code",
      "source": [
        "data_collator = DataCollatorForTokenClassification(tokenizer=tokenizer)"
      ],
      "metadata": {
        "id": "hFDq2WnhA4XG"
      },
      "execution_count": 61,
      "outputs": []
    },
    {
      "cell_type": "code",
      "source": [
        "id2label = {v: k for k, v in label_to_id.items()}  # Inverting the label_to_id mapping\n",
        "label2id = label_to_id  # Label-to-ID mapping already exists\n",
        "\n",
        "print(\"Label to ID:\", label2id)\n",
        "print(\"ID to Label:\", id2label)"
      ],
      "metadata": {
        "colab": {
          "base_uri": "https://localhost:8080/"
        },
        "id": "vr6HtXZgA-4X",
        "outputId": "1d840091-da18-49d2-bdbc-e4fa7dcaa405"
      },
      "execution_count": 62,
      "outputs": [
        {
          "output_type": "stream",
          "name": "stdout",
          "text": [
            "Label to ID: {'O': 0, 'B-Entity': 1, 'I-Entity': 2, 'B-Action': 3, 'I-Action': 4, 'B-Modifier': 5, 'I-Modifier': 6}\n",
            "ID to Label: {0: 'O', 1: 'B-Entity', 2: 'I-Entity', 3: 'B-Action', 4: 'I-Action', 5: 'B-Modifier', 6: 'I-Modifier'}\n"
          ]
        }
      ]
    },
    {
      "cell_type": "markdown",
      "source": [
        "# Training the model"
      ],
      "metadata": {
        "id": "aMqKFZN6-yM_"
      }
    },
    {
      "cell_type": "code",
      "source": [
        "# Initialize the model\n",
        "model = AutoModelForTokenClassification.from_pretrained(\n",
        "    \"bert-base-cased\",\n",
        "    id2label=id2label,\n",
        "    label2id=label2id)"
      ],
      "metadata": {
        "id": "eeOrg35h-0qN",
        "outputId": "0de451b4-8c11-4167-e007-40563883c5ee",
        "colab": {
          "base_uri": "https://localhost:8080/"
        }
      },
      "execution_count": 49,
      "outputs": [
        {
          "output_type": "stream",
          "name": "stderr",
          "text": [
            "Some weights of BertForTokenClassification were not initialized from the model checkpoint at bert-base-cased and are newly initialized: ['classifier.bias', 'classifier.weight']\n",
            "You should probably TRAIN this model on a down-stream task to be able to use it for predictions and inference.\n"
          ]
        }
      ]
    },
    {
      "cell_type": "code",
      "source": [
        "training_args = TrainingArguments(\n",
        "    output_dir=\"./results\",\n",
        "    # evaluation_strategy=\"epoch\",\n",
        "    # learning_rate=2e-5,\n",
        "    # per_device_train_batch_size=16,\n",
        "    # per_device_eval_batch_size=16,\n",
        "    # num_train_epochs=3,\n",
        "    # weight_decay=0.01,\n",
        "    report_to=[])\n",
        "\n",
        "trainer = Trainer(\n",
        "    model=model,\n",
        "    args=training_args,\n",
        "    train_dataset=tokenized_train,\n",
        "    eval_dataset=tokenized_valid,\n",
        "    tokenizer=tokenizer,\n",
        "    data_collator=data_collator)\n",
        "\n",
        "trainer.train()"
      ],
      "metadata": {
        "colab": {
          "base_uri": "https://localhost:8080/",
          "height": 196
        },
        "id": "CwmL2WkSGQSY",
        "outputId": "38344c77-dd3e-4e36-c306-31bd472db686"
      },
      "execution_count": 63,
      "outputs": [
        {
          "output_type": "stream",
          "name": "stderr",
          "text": [
            "<ipython-input-63-f2fd84db7d1f>:11: FutureWarning: `tokenizer` is deprecated and will be removed in version 5.0.0 for `Trainer.__init__`. Use `processing_class` instead.\n",
            "  trainer = Trainer(\n"
          ]
        },
        {
          "output_type": "display_data",
          "data": {
            "text/plain": [
              "<IPython.core.display.HTML object>"
            ],
            "text/html": [
              "\n",
              "    <div>\n",
              "      \n",
              "      <progress value='507' max='507' style='width:300px; height:20px; vertical-align: middle;'></progress>\n",
              "      [507/507 01:19, Epoch 3/3]\n",
              "    </div>\n",
              "    <table border=\"1\" class=\"dataframe\">\n",
              "  <thead>\n",
              " <tr style=\"text-align: left;\">\n",
              "      <th>Step</th>\n",
              "      <th>Training Loss</th>\n",
              "    </tr>\n",
              "  </thead>\n",
              "  <tbody>\n",
              "    <tr>\n",
              "      <td>500</td>\n",
              "      <td>0.347900</td>\n",
              "    </tr>\n",
              "  </tbody>\n",
              "</table><p>"
            ]
          },
          "metadata": {}
        },
        {
          "output_type": "execute_result",
          "data": {
            "text/plain": [
              "TrainOutput(global_step=507, training_loss=0.34504585611749683, metrics={'train_runtime': 79.7479, 'train_samples_per_second': 50.86, 'train_steps_per_second': 6.358, 'total_flos': 145552955643216.0, 'train_loss': 0.34504585611749683, 'epoch': 3.0})"
            ]
          },
          "metadata": {},
          "execution_count": 63
        }
      ]
    },
    {
      "cell_type": "code",
      "source": [
        "trainer.save_model(\"./saved_model\")"
      ],
      "metadata": {
        "id": "7YH6vbg_KJ5H"
      },
      "execution_count": 64,
      "outputs": []
    },
    {
      "cell_type": "markdown",
      "source": [
        "# Making predictions"
      ],
      "metadata": {
        "id": "Z0HXml58BJ-G"
      }
    },
    {
      "cell_type": "code",
      "source": [
        "# Using the model's checkpoint previously made\n",
        "model_checkpoint = \"./saved_model\"\n",
        "\n",
        "token_classifier = pipeline(\"token-classification\", model=model_checkpoint)\n",
        "\n",
        "def predict_for_data(dataset):\n",
        "    predictions = []\n",
        "\n",
        "    for entry in dataset:\n",
        "        # Construct the phrase from tokens\n",
        "        phrase = \" \".join(entry['tokens'])\n",
        "\n",
        "        # Use the classifier to predict tags for the phrase\n",
        "        classification_results = token_classifier(phrase)\n",
        "\n",
        "        # Initialize predicted tags as 'O' for every token\n",
        "        predicted_tags = [\"O\"] * len(entry['tokens'])\n",
        "\n",
        "        # Character-level tracking\n",
        "        current_char_pos = 0\n",
        "\n",
        "        for idx, token in enumerate(entry['tokens']):\n",
        "            # Find the start and end of the token in the phrase\n",
        "            token_start = current_char_pos\n",
        "            token_end = token_start + len(token)\n",
        "\n",
        "            # Check if any prediction matches this token's span\n",
        "            for prediction in classification_results:\n",
        "                if prediction['start'] >= token_start and prediction['end'] <= token_end:\n",
        "                    # Assign the predicted entity to the token\n",
        "                    predicted_tags[idx] = prediction['entity']\n",
        "                    break\n",
        "\n",
        "            # Update the character position (the space after the token)\n",
        "            current_char_pos = token_end + 1\n",
        "\n",
        "        # Append the result\n",
        "        predictions.append({\n",
        "            'unique_id': entry['unique_id'],\n",
        "            'tokens': entry['tokens'],\n",
        "            'ner_tags': predicted_tags})\n",
        "\n",
        "    return predictions\n",
        "\n",
        "# PREDICTIONS ON TESTING DATA\n",
        "predictions = predict_for_data(test_data_orig)\n",
        "write_jsonl(predicted_file_test, predictions) # write predictions on jsonl file\n",
        "print(f\"Predictions saved to {predicted_file_test}\")\n",
        "\n",
        "# PREDICTIONS ON VALIDATION DATA\n",
        "predictions = predict_for_data(valid_data_orig)\n",
        "write_jsonl(predicted_file_valid, predictions)\n",
        "print(f\"Predictions saved to {predicted_file_valid}\")"
      ],
      "metadata": {
        "id": "9mx3AybxKU2M",
        "colab": {
          "base_uri": "https://localhost:8080/"
        },
        "outputId": "58086c9e-7788-499e-896f-7c1d206de4b9"
      },
      "execution_count": 67,
      "outputs": [
        {
          "output_type": "stream",
          "name": "stderr",
          "text": [
            "Device set to use cuda:0\n"
          ]
        },
        {
          "output_type": "stream",
          "name": "stdout",
          "text": [
            "Predictions saved to ner-testing-predictions.jsonlines\n",
            "Predictions saved to ner-validation-predictions.jsonlines\n"
          ]
        }
      ]
    },
    {
      "cell_type": "markdown",
      "source": [
        "# Verifying the score"
      ],
      "metadata": {
        "id": "LI9nbM4gBto_"
      }
    },
    {
      "cell_type": "code",
      "source": [
        "def pretty_print_dict(d, indent):\n",
        "    res = \"\"\n",
        "    for k, v in d.items():\n",
        "        res += \"\\t\"*indent + str(k) + \"\\n\"\n",
        "        if isinstance(v, dict):\n",
        "            res += pretty_print_dict(v, indent+1)\n",
        "        else:\n",
        "            res += \"\\t\"*(indent+1) + str(v) + \"\\n\"\n",
        "    print(res)\n",
        "    return res\n",
        "\n",
        "def compute_seqeval_jsonl(references_jsonl, predictions_jsonl, ref_col='ner_tags', pred_col='pred_ner_tags'):\n",
        "    '''\n",
        "    Computes the seqeval scores between two datasets loaded from jsonl (list of dicts with same keys).\n",
        "    Sorts the datasets by 'unique_id' and verifies that the tokens match.\n",
        "    '''\n",
        "    # extract the tags and reverse the dict\n",
        "    ref_dict = {k:[e[k] for e in references_jsonl] for k in references_jsonl[0].keys()}\n",
        "    pred_dict = {k:[e[k] for e in predictions_jsonl] for k in predictions_jsonl[0].keys()}\n",
        "\n",
        "    # sort by unique_id\n",
        "    ref_idx = np.argsort(ref_dict['unique_id'])\n",
        "    pred_idx = np.argsort(pred_dict['unique_id'])\n",
        "    ref_ner_tags = np.array(ref_dict[ref_col], dtype=object)[ref_idx]\n",
        "    pred_ner_tags = np.array(pred_dict[pred_col], dtype=object)[pred_idx]\n",
        "    ref_tokens = np.array(ref_dict['tokens'], dtype=object)[ref_idx]\n",
        "    pred_tokens = np.array(pred_dict['tokens'], dtype=object)[pred_idx]\n",
        "\n",
        "    # check that tokens match\n",
        "    #assert((ref_tokens==pred_tokens).all())\n",
        "\n",
        "\n",
        "    # get report\n",
        "    report = classification_report(y_true=ref_ner_tags, y_pred=pred_ner_tags,\n",
        "                                   scheme=IOB2, output_dict=True,\n",
        "                                  )\n",
        "\n",
        "    # extract values we care about\n",
        "    report.pop(\"macro avg\")\n",
        "    report.pop(\"weighted avg\")\n",
        "    overall_score = report.pop(\"micro avg\")\n",
        "\n",
        "    seqeval_results = {\n",
        "        type_name: {\n",
        "            \"precision\": score[\"precision\"],\n",
        "            \"recall\": score[\"recall\"],\n",
        "            \"f1\": score[\"f1-score\"],\n",
        "            \"suport\": score[\"support\"],\n",
        "        }\n",
        "        for type_name, score in report.items()\n",
        "    }\n",
        "    seqeval_results[\"overall_precision\"] = overall_score[\"precision\"]\n",
        "    seqeval_results[\"overall_recall\"] = overall_score[\"recall\"]\n",
        "    seqeval_results[\"overall_f1\"] = overall_score[\"f1-score\"]\n",
        "    seqeval_results[\"overall_accuracy\"] = accuracy_score(y_true=ref_ner_tags, y_pred=pred_ner_tags)\n",
        "\n",
        "    return(seqeval_results)\n",
        "\n",
        "\n",
        "if __name__ == '__main__':\n",
        "\n",
        "    # Pour les étudiants : indiquer le chemin vers le fichier NER-VALIDATION\n",
        "    with open(\"NER-VALIDATION.jsonlines\", 'r') as f:\n",
        "        references_jsonl = [json.loads(l) for l in list(f)]\n",
        "\n",
        "    # Pour les étudiants : indiquer ici le chemin vers votre fichier de prédiction sur le jeu de validation\n",
        "    with open(predicted_file_valid, 'r') as f:\n",
        "        pred_jsonl = [json.loads(l) for l in list(f)]\n",
        "\n",
        "\n",
        "    res = compute_seqeval_jsonl(references_jsonl, pred_jsonl, ref_col = 'ner_tags', pred_col='ner_tags')\n",
        "    pretty_print_dict(res, 0)"
      ],
      "metadata": {
        "colab": {
          "base_uri": "https://localhost:8080/"
        },
        "id": "LcxZ3mAuD8Cf",
        "outputId": "ff8e3017-267e-4734-e07b-3c4b8345ef8a"
      },
      "execution_count": 66,
      "outputs": [
        {
          "output_type": "stream",
          "name": "stdout",
          "text": [
            "\tprecision\n",
            "\t\t0.2672772689425479\n",
            "\trecall\n",
            "\t\t0.7716346153846154\n",
            "\tf1\n",
            "\t\t0.3970315398886828\n",
            "\tsuport\n",
            "\t\t416\n",
            "\n",
            "\tprecision\n",
            "\t\t0.2049612403100775\n",
            "\trecall\n",
            "\t\t0.7161430119176598\n",
            "\tf1\n",
            "\t\t0.31870781099324974\n",
            "\tsuport\n",
            "\t\t923\n",
            "\n",
            "\tprecision\n",
            "\t\t0.30612244897959184\n",
            "\trecall\n",
            "\t\t0.75\n",
            "\tf1\n",
            "\t\t0.43478260869565216\n",
            "\tsuport\n",
            "\t\t280\n",
            "\n",
            "Action\n",
            "\tprecision\n",
            "\t\t0.2672772689425479\n",
            "\trecall\n",
            "\t\t0.7716346153846154\n",
            "\tf1\n",
            "\t\t0.3970315398886828\n",
            "\tsuport\n",
            "\t\t416\n",
            "Entity\n",
            "\tprecision\n",
            "\t\t0.2049612403100775\n",
            "\trecall\n",
            "\t\t0.7161430119176598\n",
            "\tf1\n",
            "\t\t0.31870781099324974\n",
            "\tsuport\n",
            "\t\t923\n",
            "Modifier\n",
            "\tprecision\n",
            "\t\t0.30612244897959184\n",
            "\trecall\n",
            "\t\t0.75\n",
            "\tf1\n",
            "\t\t0.43478260869565216\n",
            "\tsuport\n",
            "\t\t280\n",
            "overall_precision\n",
            "\t0.23317683881064163\n",
            "overall_recall\n",
            "\t0.7362569487337863\n",
            "overall_f1\n",
            "\t0.3541821423265488\n",
            "overall_accuracy\n",
            "\t0.6082697301125187\n",
            "\n"
          ]
        }
      ]
    }
  ]
}